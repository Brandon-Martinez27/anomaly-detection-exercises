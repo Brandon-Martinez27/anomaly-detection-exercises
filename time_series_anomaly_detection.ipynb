{
 "cells": [
  {
   "cell_type": "markdown",
   "metadata": {},
   "source": [
    "# Exercises\n",
    "\n",
    "Discover users who are accessing our curriculum pages way beyond the end of their codeup time. What would the dataframe look like? Use time series method for detecting anomalies, like exponential moving average with %b.\n",
    "\n",
    "Bonus:\n",
    "\n",
    "Can you label students who are viewing both the web dev and data science curriculum? Can you label students by the program they are in? Can you label users by student vs. staff? What are Zach, Maggie, Faith, and Ryan's ids?"
   ]
  },
  {
   "cell_type": "code",
   "execution_count": 1,
   "metadata": {},
   "outputs": [],
   "source": [
    "import numpy as np\n",
    "import pandas as pd\n",
    "import math\n",
    "from sklearn import metrics\n",
    "\n",
    "from scipy.stats import entropy\n",
    "\n",
    "import warnings\n",
    "warnings.filterwarnings(\"ignore\")\n",
    "import matplotlib.pyplot as plt\n",
    "import matplotlib.dates as mdates #to format dates on our plots\n",
    "%matplotlib inline\n",
    "import seaborn as sns\n",
    "\n",
    "# This is to make sure matplotlib doesn't throw the following error:\n",
    "# The next line fixes \"TypeError: float() argument must be a string or a number, not 'Timestamp' matplotlib\"\n",
    "pd.plotting.register_matplotlib_converters()"
   ]
  },
  {
   "cell_type": "markdown",
   "metadata": {},
   "source": [
    "---\n",
    "## Wrangle"
   ]
  },
  {
   "cell_type": "code",
   "execution_count": 2,
   "metadata": {},
   "outputs": [],
   "source": [
    "df = pd.read_csv('anonymized-curriculum-access.txt', sep=' ', parse_dates=True, names=['date', 'time', 'path', 'user_id', 'cohort_id', 'ip'])\n",
    "df['date'] = df['date'].map(str) + ' ' + df['time'].map(str) \n",
    "df = df.drop(columns='time')"
   ]
  },
  {
   "cell_type": "code",
   "execution_count": 3,
   "metadata": {},
   "outputs": [],
   "source": [
    "df['date'] = pd.to_datetime(df.date)\n",
    "df = df.set_index('date').sort_index()"
   ]
  },
  {
   "cell_type": "code",
   "execution_count": 4,
   "metadata": {},
   "outputs": [
    {
     "data": {
      "text/plain": [
       "path          object\n",
       "user_id        int64\n",
       "cohort_id    float64\n",
       "ip            object\n",
       "dtype: object"
      ]
     },
     "execution_count": 4,
     "metadata": {},
     "output_type": "execute_result"
    }
   ],
   "source": [
    "df.dtypes"
   ]
  },
  {
   "cell_type": "code",
   "execution_count": 5,
   "metadata": {},
   "outputs": [
    {
     "data": {
      "text/plain": [
       "path         2153\n",
       "user_id       787\n",
       "cohort_id      40\n",
       "ip           4339\n",
       "dtype: int64"
      ]
     },
     "execution_count": 5,
     "metadata": {},
     "output_type": "execute_result"
    }
   ],
   "source": [
    "df.nunique()"
   ]
  },
  {
   "cell_type": "code",
   "execution_count": 6,
   "metadata": {},
   "outputs": [
    {
     "name": "stdout",
     "output_type": "stream",
     "text": [
      "<class 'pandas.core.frame.DataFrame'>\n",
      "DatetimeIndex: 719459 entries, 2018-01-26 09:55:03 to 2020-11-02 16:48:47\n",
      "Data columns (total 4 columns):\n",
      " #   Column     Non-Null Count   Dtype  \n",
      "---  ------     --------------   -----  \n",
      " 0   path       719458 non-null  object \n",
      " 1   user_id    719459 non-null  int64  \n",
      " 2   cohort_id  674619 non-null  float64\n",
      " 3   ip         719459 non-null  object \n",
      "dtypes: float64(1), int64(1), object(2)\n",
      "memory usage: 27.4+ MB\n"
     ]
    }
   ],
   "source": [
    "df.info()"
   ]
  },
  {
   "cell_type": "code",
   "execution_count": 7,
   "metadata": {},
   "outputs": [
    {
     "data": {
      "text/html": [
       "<div>\n",
       "<style scoped>\n",
       "    .dataframe tbody tr th:only-of-type {\n",
       "        vertical-align: middle;\n",
       "    }\n",
       "\n",
       "    .dataframe tbody tr th {\n",
       "        vertical-align: top;\n",
       "    }\n",
       "\n",
       "    .dataframe thead th {\n",
       "        text-align: right;\n",
       "    }\n",
       "</style>\n",
       "<table border=\"1\" class=\"dataframe\">\n",
       "  <thead>\n",
       "    <tr style=\"text-align: right;\">\n",
       "      <th></th>\n",
       "      <th>path</th>\n",
       "      <th>user_id</th>\n",
       "      <th>cohort_id</th>\n",
       "      <th>ip</th>\n",
       "    </tr>\n",
       "    <tr>\n",
       "      <th>date</th>\n",
       "      <th></th>\n",
       "      <th></th>\n",
       "      <th></th>\n",
       "      <th></th>\n",
       "    </tr>\n",
       "  </thead>\n",
       "  <tbody>\n",
       "    <tr>\n",
       "      <th>2018-01-26 09:55:03</th>\n",
       "      <td>/</td>\n",
       "      <td>1</td>\n",
       "      <td>8.0</td>\n",
       "      <td>97.105.19.61</td>\n",
       "    </tr>\n",
       "    <tr>\n",
       "      <th>2018-01-26 09:56:02</th>\n",
       "      <td>java-ii</td>\n",
       "      <td>1</td>\n",
       "      <td>8.0</td>\n",
       "      <td>97.105.19.61</td>\n",
       "    </tr>\n",
       "    <tr>\n",
       "      <th>2018-01-26 09:56:05</th>\n",
       "      <td>java-ii/object-oriented-programming</td>\n",
       "      <td>1</td>\n",
       "      <td>8.0</td>\n",
       "      <td>97.105.19.61</td>\n",
       "    </tr>\n",
       "    <tr>\n",
       "      <th>2018-01-26 09:56:06</th>\n",
       "      <td>slides/object_oriented_programming</td>\n",
       "      <td>1</td>\n",
       "      <td>8.0</td>\n",
       "      <td>97.105.19.61</td>\n",
       "    </tr>\n",
       "    <tr>\n",
       "      <th>2018-01-26 09:56:24</th>\n",
       "      <td>javascript-i/conditionals</td>\n",
       "      <td>2</td>\n",
       "      <td>22.0</td>\n",
       "      <td>97.105.19.61</td>\n",
       "    </tr>\n",
       "    <tr>\n",
       "      <th>2018-01-26 09:56:41</th>\n",
       "      <td>javascript-i/loops</td>\n",
       "      <td>2</td>\n",
       "      <td>22.0</td>\n",
       "      <td>97.105.19.61</td>\n",
       "    </tr>\n",
       "    <tr>\n",
       "      <th>2018-01-26 09:56:46</th>\n",
       "      <td>javascript-i/conditionals</td>\n",
       "      <td>3</td>\n",
       "      <td>22.0</td>\n",
       "      <td>97.105.19.61</td>\n",
       "    </tr>\n",
       "    <tr>\n",
       "      <th>2018-01-26 09:56:48</th>\n",
       "      <td>javascript-i/functions</td>\n",
       "      <td>3</td>\n",
       "      <td>22.0</td>\n",
       "      <td>97.105.19.61</td>\n",
       "    </tr>\n",
       "    <tr>\n",
       "      <th>2018-01-26 09:56:59</th>\n",
       "      <td>javascript-i/loops</td>\n",
       "      <td>2</td>\n",
       "      <td>22.0</td>\n",
       "      <td>97.105.19.61</td>\n",
       "    </tr>\n",
       "    <tr>\n",
       "      <th>2018-01-26 09:58:26</th>\n",
       "      <td>javascript-i/functions</td>\n",
       "      <td>4</td>\n",
       "      <td>22.0</td>\n",
       "      <td>97.105.19.61</td>\n",
       "    </tr>\n",
       "  </tbody>\n",
       "</table>\n",
       "</div>"
      ],
      "text/plain": [
       "                                                    path  user_id  cohort_id  \\\n",
       "date                                                                           \n",
       "2018-01-26 09:55:03                                    /        1        8.0   \n",
       "2018-01-26 09:56:02                              java-ii        1        8.0   \n",
       "2018-01-26 09:56:05  java-ii/object-oriented-programming        1        8.0   \n",
       "2018-01-26 09:56:06   slides/object_oriented_programming        1        8.0   \n",
       "2018-01-26 09:56:24            javascript-i/conditionals        2       22.0   \n",
       "2018-01-26 09:56:41                   javascript-i/loops        2       22.0   \n",
       "2018-01-26 09:56:46            javascript-i/conditionals        3       22.0   \n",
       "2018-01-26 09:56:48               javascript-i/functions        3       22.0   \n",
       "2018-01-26 09:56:59                   javascript-i/loops        2       22.0   \n",
       "2018-01-26 09:58:26               javascript-i/functions        4       22.0   \n",
       "\n",
       "                               ip  \n",
       "date                               \n",
       "2018-01-26 09:55:03  97.105.19.61  \n",
       "2018-01-26 09:56:02  97.105.19.61  \n",
       "2018-01-26 09:56:05  97.105.19.61  \n",
       "2018-01-26 09:56:06  97.105.19.61  \n",
       "2018-01-26 09:56:24  97.105.19.61  \n",
       "2018-01-26 09:56:41  97.105.19.61  \n",
       "2018-01-26 09:56:46  97.105.19.61  \n",
       "2018-01-26 09:56:48  97.105.19.61  \n",
       "2018-01-26 09:56:59  97.105.19.61  \n",
       "2018-01-26 09:58:26  97.105.19.61  "
      ]
     },
     "execution_count": 7,
     "metadata": {},
     "output_type": "execute_result"
    }
   ],
   "source": [
    "df.head(10)"
   ]
  },
  {
   "cell_type": "markdown",
   "metadata": {},
   "source": [
    "---\n",
    "## Explore"
   ]
  },
  {
   "cell_type": "code",
   "execution_count": 8,
   "metadata": {},
   "outputs": [
    {
     "data": {
      "image/png": "[encoded data removed]",
      "text/plain": [
       "<Figure size 1152x648 with 1 Axes>"
      ]
     },
     "metadata": {
      "needs_background": "light"
     },
     "output_type": "display_data"
    }
   ],
   "source": [
    "# count plot of each cohort id\n",
    "plt.figure(figsize=(16,9))\n",
    "sns.countplot(x=df.cohort_id)\n",
    "plt.title('Count of each Cohort ID')\n",
    "plt.tight_layout()"
   ]
  },
  {
   "cell_type": "code",
   "execution_count": 9,
   "metadata": {},
   "outputs": [
    {
     "data": {
      "text/plain": [
       "(Timestamp('2018-01-26 09:55:03'), Timestamp('2020-11-02 16:48:47'))"
      ]
     },
     "execution_count": 9,
     "metadata": {},
     "output_type": "execute_result"
    }
   ],
   "source": [
    "# start and end dates\n",
    "df.index.min(), df.index.max()"
   ]
  },
  {
   "cell_type": "code",
   "execution_count": 10,
   "metadata": {},
   "outputs": [
    {
     "data": {
      "text/plain": [
       "<Figure size 1152x648 with 0 Axes>"
      ]
     },
     "metadata": {},
     "output_type": "display_data"
    },
    {
     "data": {
      "image/png": "[encoded data removed]",
      "text/plain": [
       "<Figure size 432x288 with 1 Axes>"
      ]
     },
     "metadata": {
      "needs_background": "light"
     },
     "output_type": "display_data"
    }
   ],
   "source": [
    "# resample by 30 min increments and group by count since each column is categorical\n",
    "plt.figure(figsize=(16,9))\n",
    "df.resample('30T').count().plot()\n",
    "plt.tight_layout()"
   ]
  },
  {
   "cell_type": "code",
   "execution_count": 11,
   "metadata": {},
   "outputs": [],
   "source": [
    "df = df.dropna()"
   ]
  },
  {
   "cell_type": "code",
   "execution_count": 12,
   "metadata": {},
   "outputs": [
    {
     "data": {
      "text/plain": [
       "path         0\n",
       "user_id      0\n",
       "cohort_id    0\n",
       "ip           0\n",
       "dtype: int64"
      ]
     },
     "execution_count": 12,
     "metadata": {},
     "output_type": "execute_result"
    }
   ],
   "source": [
    "df.isna().sum()"
   ]
  },
  {
   "cell_type": "code",
   "execution_count": 13,
   "metadata": {},
   "outputs": [
    {
     "data": {
      "text/html": [
       "<div>\n",
       "<style scoped>\n",
       "    .dataframe tbody tr th:only-of-type {\n",
       "        vertical-align: middle;\n",
       "    }\n",
       "\n",
       "    .dataframe tbody tr th {\n",
       "        vertical-align: top;\n",
       "    }\n",
       "\n",
       "    .dataframe thead th {\n",
       "        text-align: right;\n",
       "    }\n",
       "</style>\n",
       "<table border=\"1\" class=\"dataframe\">\n",
       "  <thead>\n",
       "    <tr style=\"text-align: right;\">\n",
       "      <th></th>\n",
       "      <th>path</th>\n",
       "      <th>user_id</th>\n",
       "      <th>cohort_id</th>\n",
       "      <th>ip</th>\n",
       "    </tr>\n",
       "    <tr>\n",
       "      <th>date</th>\n",
       "      <th></th>\n",
       "      <th></th>\n",
       "      <th></th>\n",
       "      <th></th>\n",
       "    </tr>\n",
       "  </thead>\n",
       "  <tbody>\n",
       "    <tr>\n",
       "      <th>2018-01-26 09:55:03</th>\n",
       "      <td>/</td>\n",
       "      <td>1</td>\n",
       "      <td>8.0</td>\n",
       "      <td>97.105.19.61</td>\n",
       "    </tr>\n",
       "    <tr>\n",
       "      <th>2018-01-26 09:56:02</th>\n",
       "      <td>java-ii</td>\n",
       "      <td>1</td>\n",
       "      <td>8.0</td>\n",
       "      <td>97.105.19.61</td>\n",
       "    </tr>\n",
       "    <tr>\n",
       "      <th>2018-01-26 09:56:05</th>\n",
       "      <td>java-ii/object-oriented-programming</td>\n",
       "      <td>1</td>\n",
       "      <td>8.0</td>\n",
       "      <td>97.105.19.61</td>\n",
       "    </tr>\n",
       "    <tr>\n",
       "      <th>2018-01-26 09:56:06</th>\n",
       "      <td>slides/object_oriented_programming</td>\n",
       "      <td>1</td>\n",
       "      <td>8.0</td>\n",
       "      <td>97.105.19.61</td>\n",
       "    </tr>\n",
       "    <tr>\n",
       "      <th>2018-01-26 09:56:24</th>\n",
       "      <td>javascript-i/conditionals</td>\n",
       "      <td>2</td>\n",
       "      <td>22.0</td>\n",
       "      <td>97.105.19.61</td>\n",
       "    </tr>\n",
       "    <tr>\n",
       "      <th>...</th>\n",
       "      <td>...</td>\n",
       "      <td>...</td>\n",
       "      <td>...</td>\n",
       "      <td>...</td>\n",
       "    </tr>\n",
       "    <tr>\n",
       "      <th>2020-11-02 16:48:13</th>\n",
       "      <td>javascript-i/coffee-project</td>\n",
       "      <td>763</td>\n",
       "      <td>62.0</td>\n",
       "      <td>107.192.148.199</td>\n",
       "    </tr>\n",
       "    <tr>\n",
       "      <th>2020-11-02 16:48:17</th>\n",
       "      <td>javascript-i/mapbox-api</td>\n",
       "      <td>771</td>\n",
       "      <td>62.0</td>\n",
       "      <td>172.125.226.175</td>\n",
       "    </tr>\n",
       "    <tr>\n",
       "      <th>2020-11-02 16:48:18</th>\n",
       "      <td>javascript-i/coffee-project</td>\n",
       "      <td>771</td>\n",
       "      <td>62.0</td>\n",
       "      <td>172.125.226.175</td>\n",
       "    </tr>\n",
       "    <tr>\n",
       "      <th>2020-11-02 16:48:28</th>\n",
       "      <td>javascript-i/bom-and-dom/bom</td>\n",
       "      <td>771</td>\n",
       "      <td>62.0</td>\n",
       "      <td>172.125.226.175</td>\n",
       "    </tr>\n",
       "    <tr>\n",
       "      <th>2020-11-02 16:48:47</th>\n",
       "      <td>javascript-i/bom-and-dom/bom</td>\n",
       "      <td>763</td>\n",
       "      <td>62.0</td>\n",
       "      <td>107.192.148.199</td>\n",
       "    </tr>\n",
       "  </tbody>\n",
       "</table>\n",
       "<p>674618 rows × 4 columns</p>\n",
       "</div>"
      ],
      "text/plain": [
       "                                                    path  user_id  cohort_id  \\\n",
       "date                                                                           \n",
       "2018-01-26 09:55:03                                    /        1        8.0   \n",
       "2018-01-26 09:56:02                              java-ii        1        8.0   \n",
       "2018-01-26 09:56:05  java-ii/object-oriented-programming        1        8.0   \n",
       "2018-01-26 09:56:06   slides/object_oriented_programming        1        8.0   \n",
       "2018-01-26 09:56:24            javascript-i/conditionals        2       22.0   \n",
       "...                                                  ...      ...        ...   \n",
       "2020-11-02 16:48:13          javascript-i/coffee-project      763       62.0   \n",
       "2020-11-02 16:48:17              javascript-i/mapbox-api      771       62.0   \n",
       "2020-11-02 16:48:18          javascript-i/coffee-project      771       62.0   \n",
       "2020-11-02 16:48:28         javascript-i/bom-and-dom/bom      771       62.0   \n",
       "2020-11-02 16:48:47         javascript-i/bom-and-dom/bom      763       62.0   \n",
       "\n",
       "                                  ip  \n",
       "date                                  \n",
       "2018-01-26 09:55:03     97.105.19.61  \n",
       "2018-01-26 09:56:02     97.105.19.61  \n",
       "2018-01-26 09:56:05     97.105.19.61  \n",
       "2018-01-26 09:56:06     97.105.19.61  \n",
       "2018-01-26 09:56:24     97.105.19.61  \n",
       "...                              ...  \n",
       "2020-11-02 16:48:13  107.192.148.199  \n",
       "2020-11-02 16:48:17  172.125.226.175  \n",
       "2020-11-02 16:48:18  172.125.226.175  \n",
       "2020-11-02 16:48:28  172.125.226.175  \n",
       "2020-11-02 16:48:47  107.192.148.199  \n",
       "\n",
       "[674618 rows x 4 columns]"
      ]
     },
     "execution_count": 13,
     "metadata": {},
     "output_type": "execute_result"
    }
   ],
   "source": [
    "df"
   ]
  },
  {
   "cell_type": "markdown",
   "metadata": {},
   "source": [
    "### Split Data"
   ]
  },
  {
   "cell_type": "code",
   "execution_count": 99,
   "metadata": {},
   "outputs": [
    {
     "name": "stdout",
     "output_type": "stream",
     "text": [
      "train       validate      test\n",
      "(394751, 4) (164043, 4) (115824, 4)\n"
     ]
    },
    {
     "data": {
      "text/plain": [
       "(0.59, 0.24, 0.17)"
      ]
     },
     "execution_count": 99,
     "metadata": {},
     "output_type": "execute_result"
    }
   ],
   "source": [
    "train = df[:'2019-12-31']\n",
    "validate = df['2020-01-01':'2020-06-30']\n",
    "test = df['2020-07-01':]\n",
    "print('train      ', 'validate     ', 'test')\n",
    "print(train.shape, validate.shape, test.shape)\n",
    "round(train.shape[0]/len(df),2), round(validate.shape[0]/len(df),2), round(test.shape[0]/len(df), 2)"
   ]
  },
  {
   "cell_type": "code",
   "execution_count": null,
   "metadata": {},
   "outputs": [],
   "source": []
  },
  {
   "cell_type": "markdown",
   "metadata": {},
   "source": [
    "Number of pages accessed per day - select one cohort (look at a spike)\n",
    "Day of the week, day, hour\n",
    "What should we measure?\n",
    "Generate count for pages/path\n",
    "total number of events, distinct pages"
   ]
  },
  {
   "cell_type": "code",
   "execution_count": 25,
   "metadata": {},
   "outputs": [
    {
     "data": {
      "text/plain": [
       "path          object\n",
       "user_id        int64\n",
       "cohort_id    float64\n",
       "ip            object\n",
       "dtype: object"
      ]
     },
     "execution_count": 25,
     "metadata": {},
     "output_type": "execute_result"
    }
   ],
   "source": [
    "df.dtypes"
   ]
  },
  {
   "cell_type": "markdown",
   "metadata": {},
   "source": [
    "### Darden's Anomalous Duo"
   ]
  },
  {
   "cell_type": "code",
   "execution_count": 39,
   "metadata": {},
   "outputs": [
    {
     "data": {
      "text/html": [
       "<div>\n",
       "<style scoped>\n",
       "    .dataframe tbody tr th:only-of-type {\n",
       "        vertical-align: middle;\n",
       "    }\n",
       "\n",
       "    .dataframe tbody tr th {\n",
       "        vertical-align: top;\n",
       "    }\n",
       "\n",
       "    .dataframe thead th {\n",
       "        text-align: right;\n",
       "    }\n",
       "</style>\n",
       "<table border=\"1\" class=\"dataframe\">\n",
       "  <thead>\n",
       "    <tr style=\"text-align: right;\">\n",
       "      <th></th>\n",
       "      <th>path</th>\n",
       "      <th>user_id</th>\n",
       "      <th>cohort_id</th>\n",
       "      <th>ip</th>\n",
       "    </tr>\n",
       "    <tr>\n",
       "      <th>date</th>\n",
       "      <th></th>\n",
       "      <th></th>\n",
       "      <th></th>\n",
       "      <th></th>\n",
       "    </tr>\n",
       "  </thead>\n",
       "  <tbody>\n",
       "    <tr>\n",
       "      <th>2020-07-13 14:34:44</th>\n",
       "      <td>/</td>\n",
       "      <td>678</td>\n",
       "      <td>59.0</td>\n",
       "      <td>76.201.20.193</td>\n",
       "    </tr>\n",
       "    <tr>\n",
       "      <th>2020-07-13 14:37:22</th>\n",
       "      <td>/</td>\n",
       "      <td>679</td>\n",
       "      <td>59.0</td>\n",
       "      <td>24.28.146.155</td>\n",
       "    </tr>\n",
       "    <tr>\n",
       "      <th>2020-07-13 14:38:28</th>\n",
       "      <td>/</td>\n",
       "      <td>680</td>\n",
       "      <td>59.0</td>\n",
       "      <td>136.50.56.155</td>\n",
       "    </tr>\n",
       "    <tr>\n",
       "      <th>2020-07-13 14:39:21</th>\n",
       "      <td>13-advanced-topics/1-tidy-data</td>\n",
       "      <td>679</td>\n",
       "      <td>59.0</td>\n",
       "      <td>24.28.146.155</td>\n",
       "    </tr>\n",
       "    <tr>\n",
       "      <th>2020-07-13 14:39:36</th>\n",
       "      <td>1-fundamentals/1.1-intro-to-data-science</td>\n",
       "      <td>679</td>\n",
       "      <td>59.0</td>\n",
       "      <td>24.28.146.155</td>\n",
       "    </tr>\n",
       "    <tr>\n",
       "      <th>...</th>\n",
       "      <td>...</td>\n",
       "      <td>...</td>\n",
       "      <td>...</td>\n",
       "      <td>...</td>\n",
       "    </tr>\n",
       "    <tr>\n",
       "      <th>2020-11-02 15:47:59</th>\n",
       "      <td>appendix/useful_libraries</td>\n",
       "      <td>698</td>\n",
       "      <td>59.0</td>\n",
       "      <td>24.28.150.196</td>\n",
       "    </tr>\n",
       "    <tr>\n",
       "      <th>2020-11-02 15:48:03</th>\n",
       "      <td>appendix/ds-environment-setup</td>\n",
       "      <td>698</td>\n",
       "      <td>59.0</td>\n",
       "      <td>24.28.150.196</td>\n",
       "    </tr>\n",
       "    <tr>\n",
       "      <th>2020-11-02 15:48:14</th>\n",
       "      <td>appendix/interview_questions_students</td>\n",
       "      <td>698</td>\n",
       "      <td>59.0</td>\n",
       "      <td>24.28.150.196</td>\n",
       "    </tr>\n",
       "    <tr>\n",
       "      <th>2020-11-02 15:50:07</th>\n",
       "      <td>appendix/open_data</td>\n",
       "      <td>698</td>\n",
       "      <td>59.0</td>\n",
       "      <td>24.28.150.196</td>\n",
       "    </tr>\n",
       "    <tr>\n",
       "      <th>2020-11-02 15:52:23</th>\n",
       "      <td>timeseries/sarimax</td>\n",
       "      <td>698</td>\n",
       "      <td>59.0</td>\n",
       "      <td>24.28.150.196</td>\n",
       "    </tr>\n",
       "  </tbody>\n",
       "</table>\n",
       "<p>22425 rows × 4 columns</p>\n",
       "</div>"
      ],
      "text/plain": [
       "                                                         path  user_id  \\\n",
       "date                                                                     \n",
       "2020-07-13 14:34:44                                         /      678   \n",
       "2020-07-13 14:37:22                                         /      679   \n",
       "2020-07-13 14:38:28                                         /      680   \n",
       "2020-07-13 14:39:21            13-advanced-topics/1-tidy-data      679   \n",
       "2020-07-13 14:39:36  1-fundamentals/1.1-intro-to-data-science      679   \n",
       "...                                                       ...      ...   \n",
       "2020-11-02 15:47:59                 appendix/useful_libraries      698   \n",
       "2020-11-02 15:48:03             appendix/ds-environment-setup      698   \n",
       "2020-11-02 15:48:14     appendix/interview_questions_students      698   \n",
       "2020-11-02 15:50:07                        appendix/open_data      698   \n",
       "2020-11-02 15:52:23                        timeseries/sarimax      698   \n",
       "\n",
       "                     cohort_id             ip  \n",
       "date                                           \n",
       "2020-07-13 14:34:44       59.0  76.201.20.193  \n",
       "2020-07-13 14:37:22       59.0  24.28.146.155  \n",
       "2020-07-13 14:38:28       59.0  136.50.56.155  \n",
       "2020-07-13 14:39:21       59.0  24.28.146.155  \n",
       "2020-07-13 14:39:36       59.0  24.28.146.155  \n",
       "...                        ...            ...  \n",
       "2020-11-02 15:47:59       59.0  24.28.150.196  \n",
       "2020-11-02 15:48:03       59.0  24.28.150.196  \n",
       "2020-11-02 15:48:14       59.0  24.28.150.196  \n",
       "2020-11-02 15:50:07       59.0  24.28.150.196  \n",
       "2020-11-02 15:52:23       59.0  24.28.150.196  \n",
       "\n",
       "[22425 rows x 4 columns]"
      ]
     },
     "execution_count": 39,
     "metadata": {},
     "output_type": "execute_result"
    }
   ],
   "source": [
    "# darden cohort\n",
    "darden = df[df.cohort_id == 59.0]\n",
    "darden"
   ]
  },
  {
   "cell_type": "code",
   "execution_count": 43,
   "metadata": {},
   "outputs": [
    {
     "data": {
      "text/plain": [
       "28"
      ]
     },
     "execution_count": 43,
     "metadata": {},
     "output_type": "execute_result"
    }
   ],
   "source": [
    "# 21 initial darden students, 5 instructors, there are 2 who are not in class???\n",
    "darden.user_id.nunique()"
   ]
  },
  {
   "cell_type": "code",
   "execution_count": 46,
   "metadata": {},
   "outputs": [
    {
     "data": {
      "text/plain": [
       "user_id\n",
       "679      11\n",
       "697      13\n",
       "785      31\n",
       "780      52\n",
       "783      54\n",
       "781      94\n",
       "683     168\n",
       "693     429\n",
       "739     522\n",
       "694     567\n",
       "690     663\n",
       "695     702\n",
       "686     725\n",
       "687     732\n",
       "268     781\n",
       "680     847\n",
       "684     853\n",
       "696     858\n",
       "678     937\n",
       "682    1184\n",
       "691    1222\n",
       "688    1248\n",
       "692    1261\n",
       "681    1270\n",
       "699    1420\n",
       "689    1544\n",
       "698    1695\n",
       "685    2542\n",
       "dtype: int64"
      ]
     },
     "execution_count": 46,
     "metadata": {},
     "output_type": "execute_result"
    }
   ],
   "source": [
    "# perhaps the 2 'weirdos' are 679 and 697?\n",
    "# observations for each user\n",
    "darden.groupby('user_id').size().sort_values()"
   ]
  },
  {
   "cell_type": "code",
   "execution_count": 52,
   "metadata": {},
   "outputs": [
    {
     "data": {
      "text/plain": [
       "user_id\n",
       "679      5\n",
       "697     10\n",
       "783     13\n",
       "785     14\n",
       "781     21\n",
       "780     24\n",
       "683     47\n",
       "739     76\n",
       "693    109\n",
       "686    127\n",
       "694    132\n",
       "690    132\n",
       "678    134\n",
       "688    141\n",
       "687    147\n",
       "695    147\n",
       "696    148\n",
       "691    155\n",
       "684    155\n",
       "681    156\n",
       "680    158\n",
       "689    159\n",
       "682    160\n",
       "268    169\n",
       "692    179\n",
       "685    188\n",
       "699    194\n",
       "698    214\n",
       "Name: path, dtype: int64"
      ]
     },
     "execution_count": 52,
     "metadata": {},
     "output_type": "execute_result"
    }
   ],
   "source": [
    "# the 2 weirdos are up again for using the curriculmn the least.\n",
    "# number of different pages that were accessed by each user\n",
    "darden.groupby('user_id').path.nunique().sort_values()"
   ]
  },
  {
   "cell_type": "code",
   "execution_count": 54,
   "metadata": {},
   "outputs": [
    {
     "data": {
      "text/html": [
       "<div>\n",
       "<style scoped>\n",
       "    .dataframe tbody tr th:only-of-type {\n",
       "        vertical-align: middle;\n",
       "    }\n",
       "\n",
       "    .dataframe tbody tr th {\n",
       "        vertical-align: top;\n",
       "    }\n",
       "\n",
       "    .dataframe thead th {\n",
       "        text-align: right;\n",
       "    }\n",
       "</style>\n",
       "<table border=\"1\" class=\"dataframe\">\n",
       "  <thead>\n",
       "    <tr style=\"text-align: right;\">\n",
       "      <th></th>\n",
       "      <th>path</th>\n",
       "      <th>user_id</th>\n",
       "      <th>cohort_id</th>\n",
       "      <th>ip</th>\n",
       "    </tr>\n",
       "    <tr>\n",
       "      <th>date</th>\n",
       "      <th></th>\n",
       "      <th></th>\n",
       "      <th></th>\n",
       "      <th></th>\n",
       "    </tr>\n",
       "  </thead>\n",
       "  <tbody>\n",
       "    <tr>\n",
       "      <th>2020-07-13 14:37:22</th>\n",
       "      <td>/</td>\n",
       "      <td>679</td>\n",
       "      <td>59.0</td>\n",
       "      <td>24.28.146.155</td>\n",
       "    </tr>\n",
       "    <tr>\n",
       "      <th>2020-07-13 14:39:21</th>\n",
       "      <td>13-advanced-topics/1-tidy-data</td>\n",
       "      <td>679</td>\n",
       "      <td>59.0</td>\n",
       "      <td>24.28.146.155</td>\n",
       "    </tr>\n",
       "    <tr>\n",
       "      <th>2020-07-13 14:39:36</th>\n",
       "      <td>1-fundamentals/1.1-intro-to-data-science</td>\n",
       "      <td>679</td>\n",
       "      <td>59.0</td>\n",
       "      <td>24.28.146.155</td>\n",
       "    </tr>\n",
       "    <tr>\n",
       "      <th>2020-07-13 14:39:37</th>\n",
       "      <td>1-fundamentals/AI-ML-DL-timeline.jpg</td>\n",
       "      <td>679</td>\n",
       "      <td>59.0</td>\n",
       "      <td>24.28.146.155</td>\n",
       "    </tr>\n",
       "    <tr>\n",
       "      <th>2020-07-13 14:39:37</th>\n",
       "      <td>1-fundamentals/modern-data-scientist.jpg</td>\n",
       "      <td>679</td>\n",
       "      <td>59.0</td>\n",
       "      <td>24.28.146.155</td>\n",
       "    </tr>\n",
       "    <tr>\n",
       "      <th>2020-07-13 15:20:27</th>\n",
       "      <td>/</td>\n",
       "      <td>697</td>\n",
       "      <td>59.0</td>\n",
       "      <td>136.50.70.27</td>\n",
       "    </tr>\n",
       "    <tr>\n",
       "      <th>2020-07-13 15:20:48</th>\n",
       "      <td>3-sql/1-mysql-overview</td>\n",
       "      <td>697</td>\n",
       "      <td>59.0</td>\n",
       "      <td>136.50.70.27</td>\n",
       "    </tr>\n",
       "    <tr>\n",
       "      <th>2020-07-13 15:20:50</th>\n",
       "      <td>1-fundamentals/1.1-intro-to-data-science</td>\n",
       "      <td>697</td>\n",
       "      <td>59.0</td>\n",
       "      <td>136.50.70.27</td>\n",
       "    </tr>\n",
       "    <tr>\n",
       "      <th>2020-07-13 15:20:50</th>\n",
       "      <td>1-fundamentals/modern-data-scientist.jpg</td>\n",
       "      <td>697</td>\n",
       "      <td>59.0</td>\n",
       "      <td>136.50.70.27</td>\n",
       "    </tr>\n",
       "    <tr>\n",
       "      <th>2020-07-13 15:20:50</th>\n",
       "      <td>1-fundamentals/AI-ML-DL-timeline.jpg</td>\n",
       "      <td>697</td>\n",
       "      <td>59.0</td>\n",
       "      <td>136.50.70.27</td>\n",
       "    </tr>\n",
       "    <tr>\n",
       "      <th>2020-07-13 15:20:59</th>\n",
       "      <td>1-fundamentals/1.2-data-science-pipeline</td>\n",
       "      <td>697</td>\n",
       "      <td>59.0</td>\n",
       "      <td>136.50.70.27</td>\n",
       "    </tr>\n",
       "    <tr>\n",
       "      <th>2020-07-13 15:20:59</th>\n",
       "      <td>1-fundamentals/DataToAction_v2.jpg</td>\n",
       "      <td>697</td>\n",
       "      <td>59.0</td>\n",
       "      <td>136.50.70.27</td>\n",
       "    </tr>\n",
       "    <tr>\n",
       "      <th>2020-07-13 15:21:01</th>\n",
       "      <td>1-fundamentals/1.1-intro-to-data-science</td>\n",
       "      <td>697</td>\n",
       "      <td>59.0</td>\n",
       "      <td>136.50.70.27</td>\n",
       "    </tr>\n",
       "    <tr>\n",
       "      <th>2020-07-13 15:21:02</th>\n",
       "      <td>1-fundamentals/AI-ML-DL-timeline.jpg</td>\n",
       "      <td>697</td>\n",
       "      <td>59.0</td>\n",
       "      <td>136.50.70.27</td>\n",
       "    </tr>\n",
       "    <tr>\n",
       "      <th>2020-07-13 15:21:02</th>\n",
       "      <td>1-fundamentals/modern-data-scientist.jpg</td>\n",
       "      <td>697</td>\n",
       "      <td>59.0</td>\n",
       "      <td>136.50.70.27</td>\n",
       "    </tr>\n",
       "    <tr>\n",
       "      <th>2020-07-13 15:21:12</th>\n",
       "      <td>2-storytelling/3-tableau</td>\n",
       "      <td>697</td>\n",
       "      <td>59.0</td>\n",
       "      <td>136.50.70.27</td>\n",
       "    </tr>\n",
       "    <tr>\n",
       "      <th>2020-07-13 15:21:16</th>\n",
       "      <td>2-storytelling/3.3-creating-charts</td>\n",
       "      <td>697</td>\n",
       "      <td>59.0</td>\n",
       "      <td>136.50.70.27</td>\n",
       "    </tr>\n",
       "    <tr>\n",
       "      <th>2020-07-13 15:26:39</th>\n",
       "      <td>4-python/8.4.1-pandas-overview</td>\n",
       "      <td>697</td>\n",
       "      <td>59.0</td>\n",
       "      <td>136.50.70.27</td>\n",
       "    </tr>\n",
       "    <tr>\n",
       "      <th>2020-07-13 15:49:31</th>\n",
       "      <td>1-fundamentals/1.1-intro-to-data-science</td>\n",
       "      <td>679</td>\n",
       "      <td>59.0</td>\n",
       "      <td>24.28.146.155</td>\n",
       "    </tr>\n",
       "    <tr>\n",
       "      <th>2020-07-13 15:49:32</th>\n",
       "      <td>1-fundamentals/modern-data-scientist.jpg</td>\n",
       "      <td>679</td>\n",
       "      <td>59.0</td>\n",
       "      <td>24.28.146.155</td>\n",
       "    </tr>\n",
       "    <tr>\n",
       "      <th>2020-07-13 15:49:32</th>\n",
       "      <td>1-fundamentals/AI-ML-DL-timeline.jpg</td>\n",
       "      <td>679</td>\n",
       "      <td>59.0</td>\n",
       "      <td>24.28.146.155</td>\n",
       "    </tr>\n",
       "    <tr>\n",
       "      <th>2020-07-14 08:05:15</th>\n",
       "      <td>1-fundamentals/1.1-intro-to-data-science</td>\n",
       "      <td>679</td>\n",
       "      <td>59.0</td>\n",
       "      <td>24.28.146.155</td>\n",
       "    </tr>\n",
       "    <tr>\n",
       "      <th>2020-07-14 08:05:15</th>\n",
       "      <td>1-fundamentals/AI-ML-DL-timeline.jpg</td>\n",
       "      <td>679</td>\n",
       "      <td>59.0</td>\n",
       "      <td>24.28.146.155</td>\n",
       "    </tr>\n",
       "    <tr>\n",
       "      <th>2020-07-14 08:05:15</th>\n",
       "      <td>1-fundamentals/modern-data-scientist.jpg</td>\n",
       "      <td>679</td>\n",
       "      <td>59.0</td>\n",
       "      <td>24.28.146.155</td>\n",
       "    </tr>\n",
       "  </tbody>\n",
       "</table>\n",
       "</div>"
      ],
      "text/plain": [
       "                                                         path  user_id  \\\n",
       "date                                                                     \n",
       "2020-07-13 14:37:22                                         /      679   \n",
       "2020-07-13 14:39:21            13-advanced-topics/1-tidy-data      679   \n",
       "2020-07-13 14:39:36  1-fundamentals/1.1-intro-to-data-science      679   \n",
       "2020-07-13 14:39:37      1-fundamentals/AI-ML-DL-timeline.jpg      679   \n",
       "2020-07-13 14:39:37  1-fundamentals/modern-data-scientist.jpg      679   \n",
       "2020-07-13 15:20:27                                         /      697   \n",
       "2020-07-13 15:20:48                    3-sql/1-mysql-overview      697   \n",
       "2020-07-13 15:20:50  1-fundamentals/1.1-intro-to-data-science      697   \n",
       "2020-07-13 15:20:50  1-fundamentals/modern-data-scientist.jpg      697   \n",
       "2020-07-13 15:20:50      1-fundamentals/AI-ML-DL-timeline.jpg      697   \n",
       "2020-07-13 15:20:59  1-fundamentals/1.2-data-science-pipeline      697   \n",
       "2020-07-13 15:20:59        1-fundamentals/DataToAction_v2.jpg      697   \n",
       "2020-07-13 15:21:01  1-fundamentals/1.1-intro-to-data-science      697   \n",
       "2020-07-13 15:21:02      1-fundamentals/AI-ML-DL-timeline.jpg      697   \n",
       "2020-07-13 15:21:02  1-fundamentals/modern-data-scientist.jpg      697   \n",
       "2020-07-13 15:21:12                  2-storytelling/3-tableau      697   \n",
       "2020-07-13 15:21:16        2-storytelling/3.3-creating-charts      697   \n",
       "2020-07-13 15:26:39            4-python/8.4.1-pandas-overview      697   \n",
       "2020-07-13 15:49:31  1-fundamentals/1.1-intro-to-data-science      679   \n",
       "2020-07-13 15:49:32  1-fundamentals/modern-data-scientist.jpg      679   \n",
       "2020-07-13 15:49:32      1-fundamentals/AI-ML-DL-timeline.jpg      679   \n",
       "2020-07-14 08:05:15  1-fundamentals/1.1-intro-to-data-science      679   \n",
       "2020-07-14 08:05:15      1-fundamentals/AI-ML-DL-timeline.jpg      679   \n",
       "2020-07-14 08:05:15  1-fundamentals/modern-data-scientist.jpg      679   \n",
       "\n",
       "                     cohort_id             ip  \n",
       "date                                           \n",
       "2020-07-13 14:37:22       59.0  24.28.146.155  \n",
       "2020-07-13 14:39:21       59.0  24.28.146.155  \n",
       "2020-07-13 14:39:36       59.0  24.28.146.155  \n",
       "2020-07-13 14:39:37       59.0  24.28.146.155  \n",
       "2020-07-13 14:39:37       59.0  24.28.146.155  \n",
       "2020-07-13 15:20:27       59.0   136.50.70.27  \n",
       "2020-07-13 15:20:48       59.0   136.50.70.27  \n",
       "2020-07-13 15:20:50       59.0   136.50.70.27  \n",
       "2020-07-13 15:20:50       59.0   136.50.70.27  \n",
       "2020-07-13 15:20:50       59.0   136.50.70.27  \n",
       "2020-07-13 15:20:59       59.0   136.50.70.27  \n",
       "2020-07-13 15:20:59       59.0   136.50.70.27  \n",
       "2020-07-13 15:21:01       59.0   136.50.70.27  \n",
       "2020-07-13 15:21:02       59.0   136.50.70.27  \n",
       "2020-07-13 15:21:02       59.0   136.50.70.27  \n",
       "2020-07-13 15:21:12       59.0   136.50.70.27  \n",
       "2020-07-13 15:21:16       59.0   136.50.70.27  \n",
       "2020-07-13 15:26:39       59.0   136.50.70.27  \n",
       "2020-07-13 15:49:31       59.0  24.28.146.155  \n",
       "2020-07-13 15:49:32       59.0  24.28.146.155  \n",
       "2020-07-13 15:49:32       59.0  24.28.146.155  \n",
       "2020-07-14 08:05:15       59.0  24.28.146.155  \n",
       "2020-07-14 08:05:15       59.0  24.28.146.155  \n",
       "2020-07-14 08:05:15       59.0  24.28.146.155  "
      ]
     },
     "execution_count": 54,
     "metadata": {},
     "output_type": "execute_result"
    }
   ],
   "source": [
    "# what does the activity of the weirdos look like?\n",
    "# they only accessed the curriculmn on day 1 and 2\n",
    "df[(df.user_id == 697) | (df.user_id == 679)]"
   ]
  },
  {
   "cell_type": "code",
   "execution_count": 71,
   "metadata": {},
   "outputs": [
    {
     "data": {
      "text/plain": [
       "<matplotlib.axes._subplots.AxesSubplot at 0x7ff4da2ad190>"
      ]
     },
     "execution_count": 71,
     "metadata": {},
     "output_type": "execute_result"
    },
    {
     "data": {
      "image/png": "[encoded data removed]",
      "text/plain": [
       "<Figure size 432x288 with 1 Axes>"
      ]
     },
     "metadata": {
      "needs_background": "light"
     },
     "output_type": "display_data"
    }
   ],
   "source": [
    "darden.resample('w').size().plot()"
   ]
  },
  {
   "cell_type": "code",
   "execution_count": 73,
   "metadata": {},
   "outputs": [
    {
     "data": {
      "text/html": [
       "<div>\n",
       "<style scoped>\n",
       "    .dataframe tbody tr th:only-of-type {\n",
       "        vertical-align: middle;\n",
       "    }\n",
       "\n",
       "    .dataframe tbody tr th {\n",
       "        vertical-align: top;\n",
       "    }\n",
       "\n",
       "    .dataframe thead th {\n",
       "        text-align: right;\n",
       "    }\n",
       "</style>\n",
       "<table border=\"1\" class=\"dataframe\">\n",
       "  <thead>\n",
       "    <tr style=\"text-align: right;\">\n",
       "      <th></th>\n",
       "      <th>path</th>\n",
       "      <th>user_id</th>\n",
       "      <th>cohort_id</th>\n",
       "      <th>ip</th>\n",
       "    </tr>\n",
       "    <tr>\n",
       "      <th>date</th>\n",
       "      <th></th>\n",
       "      <th></th>\n",
       "      <th></th>\n",
       "      <th></th>\n",
       "    </tr>\n",
       "  </thead>\n",
       "  <tbody>\n",
       "    <tr>\n",
       "      <th>2020-07-13 14:43:14</th>\n",
       "      <td>/</td>\n",
       "      <td>690</td>\n",
       "      <td>59.0</td>\n",
       "      <td>67.11.40.170</td>\n",
       "    </tr>\n",
       "    <tr>\n",
       "      <th>2020-07-15 08:39:29</th>\n",
       "      <td>1-fundamentals/1.1-intro-to-data-science</td>\n",
       "      <td>690</td>\n",
       "      <td>59.0</td>\n",
       "      <td>67.11.40.170</td>\n",
       "    </tr>\n",
       "    <tr>\n",
       "      <th>2020-07-15 08:39:29</th>\n",
       "      <td>1-fundamentals/modern-data-scientist.jpg</td>\n",
       "      <td>690</td>\n",
       "      <td>59.0</td>\n",
       "      <td>67.11.40.170</td>\n",
       "    </tr>\n",
       "    <tr>\n",
       "      <th>2020-07-15 08:39:30</th>\n",
       "      <td>1-fundamentals/AI-ML-DL-timeline.jpg</td>\n",
       "      <td>690</td>\n",
       "      <td>59.0</td>\n",
       "      <td>67.11.40.170</td>\n",
       "    </tr>\n",
       "    <tr>\n",
       "      <th>2020-07-15 08:53:08</th>\n",
       "      <td>1-fundamentals/1.1-intro-to-data-science</td>\n",
       "      <td>690</td>\n",
       "      <td>59.0</td>\n",
       "      <td>67.11.40.170</td>\n",
       "    </tr>\n",
       "    <tr>\n",
       "      <th>...</th>\n",
       "      <td>...</td>\n",
       "      <td>...</td>\n",
       "      <td>...</td>\n",
       "      <td>...</td>\n",
       "    </tr>\n",
       "    <tr>\n",
       "      <th>2020-10-30 09:44:56</th>\n",
       "      <td>timeseries/modeling-lesson1</td>\n",
       "      <td>690</td>\n",
       "      <td>59.0</td>\n",
       "      <td>67.11.40.170</td>\n",
       "    </tr>\n",
       "    <tr>\n",
       "      <th>2020-11-02 10:12:06</th>\n",
       "      <td>/</td>\n",
       "      <td>690</td>\n",
       "      <td>59.0</td>\n",
       "      <td>67.11.40.170</td>\n",
       "    </tr>\n",
       "    <tr>\n",
       "      <th>2020-11-02 12:03:02</th>\n",
       "      <td>timeseries/explore</td>\n",
       "      <td>690</td>\n",
       "      <td>59.0</td>\n",
       "      <td>67.11.40.170</td>\n",
       "    </tr>\n",
       "    <tr>\n",
       "      <th>2020-11-02 13:43:46</th>\n",
       "      <td>timeseries/project</td>\n",
       "      <td>690</td>\n",
       "      <td>59.0</td>\n",
       "      <td>67.11.40.170</td>\n",
       "    </tr>\n",
       "    <tr>\n",
       "      <th>2020-11-02 14:01:37</th>\n",
       "      <td>timeseries/modeling-lesson1</td>\n",
       "      <td>690</td>\n",
       "      <td>59.0</td>\n",
       "      <td>67.11.40.170</td>\n",
       "    </tr>\n",
       "  </tbody>\n",
       "</table>\n",
       "<p>299 rows × 4 columns</p>\n",
       "</div>"
      ],
      "text/plain": [
       "                                                         path  user_id  \\\n",
       "date                                                                     \n",
       "2020-07-13 14:43:14                                         /      690   \n",
       "2020-07-15 08:39:29  1-fundamentals/1.1-intro-to-data-science      690   \n",
       "2020-07-15 08:39:29  1-fundamentals/modern-data-scientist.jpg      690   \n",
       "2020-07-15 08:39:30      1-fundamentals/AI-ML-DL-timeline.jpg      690   \n",
       "2020-07-15 08:53:08  1-fundamentals/1.1-intro-to-data-science      690   \n",
       "...                                                       ...      ...   \n",
       "2020-10-30 09:44:56               timeseries/modeling-lesson1      690   \n",
       "2020-11-02 10:12:06                                         /      690   \n",
       "2020-11-02 12:03:02                        timeseries/explore      690   \n",
       "2020-11-02 13:43:46                        timeseries/project      690   \n",
       "2020-11-02 14:01:37               timeseries/modeling-lesson1      690   \n",
       "\n",
       "                     cohort_id            ip  \n",
       "date                                          \n",
       "2020-07-13 14:43:14       59.0  67.11.40.170  \n",
       "2020-07-15 08:39:29       59.0  67.11.40.170  \n",
       "2020-07-15 08:39:29       59.0  67.11.40.170  \n",
       "2020-07-15 08:39:30       59.0  67.11.40.170  \n",
       "2020-07-15 08:53:08       59.0  67.11.40.170  \n",
       "...                        ...           ...  \n",
       "2020-10-30 09:44:56       59.0  67.11.40.170  \n",
       "2020-11-02 10:12:06       59.0  67.11.40.170  \n",
       "2020-11-02 12:03:02       59.0  67.11.40.170  \n",
       "2020-11-02 13:43:46       59.0  67.11.40.170  \n",
       "2020-11-02 14:01:37       59.0  67.11.40.170  \n",
       "\n",
       "[299 rows x 4 columns]"
      ]
     },
     "execution_count": 73,
     "metadata": {},
     "output_type": "execute_result"
    }
   ],
   "source": [
    "# hey its ME!\n",
    "darden[darden.ip == '67.11.40.170']"
   ]
  },
  {
   "cell_type": "code",
   "execution_count": 77,
   "metadata": {},
   "outputs": [
    {
     "data": {
      "text/plain": [
       "<matplotlib.axes._subplots.AxesSubplot at 0x7ff4dad57310>"
      ]
     },
     "execution_count": 77,
     "metadata": {},
     "output_type": "execute_result"
    },
    {
     "data": {
      "image/png": "[encoded data removed]",
      "text/plain": [
       "<Figure size 432x288 with 1 Axes>"
      ]
     },
     "metadata": {
      "needs_background": "light"
     },
     "output_type": "display_data"
    }
   ],
   "source": [
    "darden[darden.ip == '67.11.40.170'].resample('w').size().plot()"
   ]
  },
  {
   "cell_type": "code",
   "execution_count": 79,
   "metadata": {},
   "outputs": [
    {
     "data": {
      "text/html": [
       "<div>\n",
       "<style scoped>\n",
       "    .dataframe tbody tr th:only-of-type {\n",
       "        vertical-align: middle;\n",
       "    }\n",
       "\n",
       "    .dataframe tbody tr th {\n",
       "        vertical-align: top;\n",
       "    }\n",
       "\n",
       "    .dataframe thead th {\n",
       "        text-align: right;\n",
       "    }\n",
       "</style>\n",
       "<table border=\"1\" class=\"dataframe\">\n",
       "  <thead>\n",
       "    <tr style=\"text-align: right;\">\n",
       "      <th></th>\n",
       "      <th>path</th>\n",
       "      <th>user_id</th>\n",
       "      <th>cohort_id</th>\n",
       "      <th>ip</th>\n",
       "    </tr>\n",
       "    <tr>\n",
       "      <th>date</th>\n",
       "      <th></th>\n",
       "      <th></th>\n",
       "      <th></th>\n",
       "      <th></th>\n",
       "    </tr>\n",
       "  </thead>\n",
       "  <tbody>\n",
       "    <tr>\n",
       "      <th>2020-07-13 14:40:31</th>\n",
       "      <td>/</td>\n",
       "      <td>685</td>\n",
       "      <td>59.0</td>\n",
       "      <td>99.76.233.212</td>\n",
       "    </tr>\n",
       "    <tr>\n",
       "      <th>2020-07-13 23:23:10</th>\n",
       "      <td>/</td>\n",
       "      <td>685</td>\n",
       "      <td>59.0</td>\n",
       "      <td>99.76.233.212</td>\n",
       "    </tr>\n",
       "    <tr>\n",
       "      <th>2020-07-14 08:30:16</th>\n",
       "      <td>/</td>\n",
       "      <td>685</td>\n",
       "      <td>59.0</td>\n",
       "      <td>99.76.233.212</td>\n",
       "    </tr>\n",
       "    <tr>\n",
       "      <th>2020-07-14 10:37:01</th>\n",
       "      <td>/</td>\n",
       "      <td>685</td>\n",
       "      <td>59.0</td>\n",
       "      <td>99.76.233.212</td>\n",
       "    </tr>\n",
       "    <tr>\n",
       "      <th>2020-07-14 11:09:36</th>\n",
       "      <td>1-fundamentals/1.1-intro-to-data-science</td>\n",
       "      <td>685</td>\n",
       "      <td>59.0</td>\n",
       "      <td>99.76.233.212</td>\n",
       "    </tr>\n",
       "    <tr>\n",
       "      <th>...</th>\n",
       "      <td>...</td>\n",
       "      <td>...</td>\n",
       "      <td>...</td>\n",
       "      <td>...</td>\n",
       "    </tr>\n",
       "    <tr>\n",
       "      <th>2020-11-02 15:20:36</th>\n",
       "      <td>timeseries/modeling-lesson1</td>\n",
       "      <td>685</td>\n",
       "      <td>59.0</td>\n",
       "      <td>99.76.233.212</td>\n",
       "    </tr>\n",
       "    <tr>\n",
       "      <th>2020-11-02 15:20:50</th>\n",
       "      <td>timeseries/modeling-lesson1</td>\n",
       "      <td>685</td>\n",
       "      <td>59.0</td>\n",
       "      <td>99.76.233.212</td>\n",
       "    </tr>\n",
       "    <tr>\n",
       "      <th>2020-11-02 15:42:31</th>\n",
       "      <td>classification/overview</td>\n",
       "      <td>685</td>\n",
       "      <td>59.0</td>\n",
       "      <td>99.76.233.212</td>\n",
       "    </tr>\n",
       "    <tr>\n",
       "      <th>2020-11-02 15:42:31</th>\n",
       "      <td>classification/scale_features_or_not.svg</td>\n",
       "      <td>685</td>\n",
       "      <td>59.0</td>\n",
       "      <td>99.76.233.212</td>\n",
       "    </tr>\n",
       "    <tr>\n",
       "      <th>2020-11-02 15:42:34</th>\n",
       "      <td>timeseries/project</td>\n",
       "      <td>685</td>\n",
       "      <td>59.0</td>\n",
       "      <td>99.76.233.212</td>\n",
       "    </tr>\n",
       "  </tbody>\n",
       "</table>\n",
       "<p>2542 rows × 4 columns</p>\n",
       "</div>"
      ],
      "text/plain": [
       "                                                         path  user_id  \\\n",
       "date                                                                     \n",
       "2020-07-13 14:40:31                                         /      685   \n",
       "2020-07-13 23:23:10                                         /      685   \n",
       "2020-07-14 08:30:16                                         /      685   \n",
       "2020-07-14 10:37:01                                         /      685   \n",
       "2020-07-14 11:09:36  1-fundamentals/1.1-intro-to-data-science      685   \n",
       "...                                                       ...      ...   \n",
       "2020-11-02 15:20:36               timeseries/modeling-lesson1      685   \n",
       "2020-11-02 15:20:50               timeseries/modeling-lesson1      685   \n",
       "2020-11-02 15:42:31                   classification/overview      685   \n",
       "2020-11-02 15:42:31  classification/scale_features_or_not.svg      685   \n",
       "2020-11-02 15:42:34                        timeseries/project      685   \n",
       "\n",
       "                     cohort_id             ip  \n",
       "date                                           \n",
       "2020-07-13 14:40:31       59.0  99.76.233.212  \n",
       "2020-07-13 23:23:10       59.0  99.76.233.212  \n",
       "2020-07-14 08:30:16       59.0  99.76.233.212  \n",
       "2020-07-14 10:37:01       59.0  99.76.233.212  \n",
       "2020-07-14 11:09:36       59.0  99.76.233.212  \n",
       "...                        ...            ...  \n",
       "2020-11-02 15:20:36       59.0  99.76.233.212  \n",
       "2020-11-02 15:20:50       59.0  99.76.233.212  \n",
       "2020-11-02 15:42:31       59.0  99.76.233.212  \n",
       "2020-11-02 15:42:31       59.0  99.76.233.212  \n",
       "2020-11-02 15:42:34       59.0  99.76.233.212  \n",
       "\n",
       "[2542 rows x 4 columns]"
      ]
     },
     "execution_count": 79,
     "metadata": {},
     "output_type": "execute_result"
    }
   ],
   "source": [
    "darden[darden.user_id == 685]"
   ]
  },
  {
   "cell_type": "markdown",
   "metadata": {},
   "source": [
    "### Exponential Moving Average"
   ]
  },
  {
   "cell_type": "code",
   "execution_count": null,
   "metadata": {},
   "outputs": [],
   "source": []
  }
 ],
 "metadata": {
  "kernelspec": {
   "display_name": "Python 3",
   "language": "python",
   "name": "python3"
  },
  "language_info": {
   "codemirror_mode": {
    "name": "ipython",
    "version": 3
   },
   "file_extension": ".py",
   "mimetype": "text/x-python",
   "name": "python",
   "nbconvert_exporter": "python",
   "pygments_lexer": "ipython3",
   "version": "3.7.6"
  }
 },
 "nbformat": 4,
 "nbformat_minor": 4
}
