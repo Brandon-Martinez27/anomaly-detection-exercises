{
 "cells": [
  {
   "cell_type": "markdown",
   "metadata": {},
   "source": [
    "# Continuous Probabilistic Methods\n",
    "## Zillow data\n",
    "\n",
    "With what we’ve covered w/ detecting continuous outliers, consider what you would label as outliers and why out of:\n",
    "- calculated finished square feet\n",
    "- number of bedrooms \n",
    "- number of bathrooms\n",
    "- tax amount"
   ]
  },
  {
   "cell_type": "code",
   "execution_count": 5,
   "metadata": {},
   "outputs": [],
   "source": [
    "import numpy as np\n",
    "import pandas as pd\n",
    "import matplotlib.pyplot as plt\n",
    "from wrangle_zillow import wrangle_zillow"
   ]
  },
  {
   "cell_type": "code",
   "execution_count": 6,
   "metadata": {},
   "outputs": [],
   "source": [
    "def get_upper_outliers(s, k):\n",
    "    q1, q3 = s.quantile([.25, .75])\n",
    "    iqr = q3 - q1\n",
    "    upper_bound = q3 + k * iqr\n",
    "    return s.apply(lambda x: max([x - upper_bound, 0]))"
   ]
  },
  {
   "cell_type": "code",
   "execution_count": 7,
   "metadata": {},
   "outputs": [],
   "source": [
    "def get_lower_outliers(s, k):\n",
    "    q1, q3 = s.quantile([.25, .75])\n",
    "    iqr = q3 - q1\n",
    "    lower_bound = q1 - k * iqr\n",
    "    return s.apply(lambda x: max([lower_bound - x, 0]))"
   ]
  },
  {
   "cell_type": "code",
   "execution_count": 8,
   "metadata": {},
   "outputs": [],
   "source": [
    "df = wrangle_zillow()"
   ]
  },
  {
   "cell_type": "code",
   "execution_count": 11,
   "metadata": {},
   "outputs": [],
   "source": [
    "df = df[['bathroomcnt', 'bedroomcnt', 'calculatedfinishedsquarefeet', 'taxamount']]"
   ]
  },
  {
   "cell_type": "code",
   "execution_count": 18,
   "metadata": {},
   "outputs": [],
   "source": [
    "df = df.rename(columns={'bathroomcnt':'baths', \n",
    "           'bedroomcnt':'beds', \n",
    "           'calculatedfinishedsquarefeet':'sqft',\n",
    "            'taxamount':'tax'})"
   ]
  },
  {
   "cell_type": "code",
   "execution_count": 19,
   "metadata": {},
   "outputs": [
    {
     "data": {
      "text/html": [
       "<div>\n",
       "<style scoped>\n",
       "    .dataframe tbody tr th:only-of-type {\n",
       "        vertical-align: middle;\n",
       "    }\n",
       "\n",
       "    .dataframe tbody tr th {\n",
       "        vertical-align: top;\n",
       "    }\n",
       "\n",
       "    .dataframe thead th {\n",
       "        text-align: right;\n",
       "    }\n",
       "</style>\n",
       "<table border=\"1\" class=\"dataframe\">\n",
       "  <thead>\n",
       "    <tr style=\"text-align: right;\">\n",
       "      <th></th>\n",
       "      <th>baths</th>\n",
       "      <th>beds</th>\n",
       "      <th>sqft</th>\n",
       "      <th>tax</th>\n",
       "    </tr>\n",
       "  </thead>\n",
       "  <tbody>\n",
       "    <tr>\n",
       "      <th>336</th>\n",
       "      <td>4.0</td>\n",
       "      <td>4.0</td>\n",
       "      <td>4969.0</td>\n",
       "      <td>24556.86</td>\n",
       "    </tr>\n",
       "    <tr>\n",
       "      <th>337</th>\n",
       "      <td>2.0</td>\n",
       "      <td>3.0</td>\n",
       "      <td>1800.0</td>\n",
       "      <td>8571.20</td>\n",
       "    </tr>\n",
       "    <tr>\n",
       "      <th>338</th>\n",
       "      <td>1.0</td>\n",
       "      <td>2.0</td>\n",
       "      <td>780.0</td>\n",
       "      <td>1652.36</td>\n",
       "    </tr>\n",
       "    <tr>\n",
       "      <th>339</th>\n",
       "      <td>2.0</td>\n",
       "      <td>2.0</td>\n",
       "      <td>1250.0</td>\n",
       "      <td>3191.16</td>\n",
       "    </tr>\n",
       "    <tr>\n",
       "      <th>340</th>\n",
       "      <td>1.0</td>\n",
       "      <td>2.0</td>\n",
       "      <td>1404.0</td>\n",
       "      <td>3987.00</td>\n",
       "    </tr>\n",
       "  </tbody>\n",
       "</table>\n",
       "</div>"
      ],
      "text/plain": [
       "     baths  beds    sqft       tax\n",
       "336    4.0   4.0  4969.0  24556.86\n",
       "337    2.0   3.0  1800.0   8571.20\n",
       "338    1.0   2.0   780.0   1652.36\n",
       "339    2.0   2.0  1250.0   3191.16\n",
       "340    1.0   2.0  1404.0   3987.00"
      ]
     },
     "execution_count": 19,
     "metadata": {},
     "output_type": "execute_result"
    }
   ],
   "source": [
    "df.head()"
   ]
  },
  {
   "cell_type": "code",
   "execution_count": 20,
   "metadata": {},
   "outputs": [],
   "source": [
    "df.to_csv('ad_zillow.csv')"
   ]
  },
  {
   "cell_type": "code",
   "execution_count": 22,
   "metadata": {},
   "outputs": [
    {
     "data": {
      "text/html": [
       "<div>\n",
       "<style scoped>\n",
       "    .dataframe tbody tr th:only-of-type {\n",
       "        vertical-align: middle;\n",
       "    }\n",
       "\n",
       "    .dataframe tbody tr th {\n",
       "        vertical-align: top;\n",
       "    }\n",
       "\n",
       "    .dataframe thead th {\n",
       "        text-align: right;\n",
       "    }\n",
       "</style>\n",
       "<table border=\"1\" class=\"dataframe\">\n",
       "  <thead>\n",
       "    <tr style=\"text-align: right;\">\n",
       "      <th></th>\n",
       "      <th>count</th>\n",
       "      <th>mean</th>\n",
       "      <th>std</th>\n",
       "      <th>min</th>\n",
       "      <th>25%</th>\n",
       "      <th>50%</th>\n",
       "      <th>75%</th>\n",
       "      <th>max</th>\n",
       "    </tr>\n",
       "  </thead>\n",
       "  <tbody>\n",
       "    <tr>\n",
       "      <th>baths</th>\n",
       "      <td>53965.0</td>\n",
       "      <td>2.244297</td>\n",
       "      <td>0.981885</td>\n",
       "      <td>1.00</td>\n",
       "      <td>2.00</td>\n",
       "      <td>2.00</td>\n",
       "      <td>3.00</td>\n",
       "      <td>20.00</td>\n",
       "    </tr>\n",
       "    <tr>\n",
       "      <th>beds</th>\n",
       "      <td>53965.0</td>\n",
       "      <td>3.307236</td>\n",
       "      <td>0.919384</td>\n",
       "      <td>0.00</td>\n",
       "      <td>3.00</td>\n",
       "      <td>3.00</td>\n",
       "      <td>4.00</td>\n",
       "      <td>25.00</td>\n",
       "    </tr>\n",
       "    <tr>\n",
       "      <th>sqft</th>\n",
       "      <td>53965.0</td>\n",
       "      <td>1859.862689</td>\n",
       "      <td>951.852294</td>\n",
       "      <td>78.00</td>\n",
       "      <td>1262.00</td>\n",
       "      <td>1626.00</td>\n",
       "      <td>2199.00</td>\n",
       "      <td>26345.00</td>\n",
       "    </tr>\n",
       "    <tr>\n",
       "      <th>tax</th>\n",
       "      <td>53965.0</td>\n",
       "      <td>5489.855768</td>\n",
       "      <td>6743.901944</td>\n",
       "      <td>20.24</td>\n",
       "      <td>2516.22</td>\n",
       "      <td>4095.77</td>\n",
       "      <td>6314.55</td>\n",
       "      <td>342940.38</td>\n",
       "    </tr>\n",
       "  </tbody>\n",
       "</table>\n",
       "</div>"
      ],
      "text/plain": [
       "         count         mean          std    min      25%      50%      75%  \\\n",
       "baths  53965.0     2.244297     0.981885   1.00     2.00     2.00     3.00   \n",
       "beds   53965.0     3.307236     0.919384   0.00     3.00     3.00     4.00   \n",
       "sqft   53965.0  1859.862689   951.852294  78.00  1262.00  1626.00  2199.00   \n",
       "tax    53965.0  5489.855768  6743.901944  20.24  2516.22  4095.77  6314.55   \n",
       "\n",
       "             max  \n",
       "baths      20.00  \n",
       "beds       25.00  \n",
       "sqft    26345.00  \n",
       "tax    342940.38  "
      ]
     },
     "execution_count": 22,
     "metadata": {},
     "output_type": "execute_result"
    }
   ],
   "source": [
    "# Stats for the Zillow Data\n",
    "df.describe().T"
   ]
  },
  {
   "cell_type": "markdown",
   "metadata": {},
   "source": [
    "---\n",
    "### Exercises\n",
    "- Use the IQR Range Rule and the upper and lower bounds to identify the **lower** outliers of each column of lemonade.csv, using the multiplier of 1.5. \n",
    "    - Do these lower outliers make sense? \n",
    "    - Which outliers should be kept?"
   ]
  },
  {
   "cell_type": "code",
   "execution_count": 23,
   "metadata": {},
   "outputs": [],
   "source": [
    "# IQR Range rule\n",
    "q1 = df.quantile(.25)\n",
    "q3 = df.quantile(.75)\n",
    "\n",
    "iqr = q3 - q1\n",
    "multiplier = 1.5\n",
    "\n",
    "lower_bound = q1 - iqr*multiplier\n",
    "upper_bound = q3 + iqr*multiplier"
   ]
  },
  {
   "cell_type": "code",
   "execution_count": 24,
   "metadata": {},
   "outputs": [
    {
     "name": "stdout",
     "output_type": "stream",
     "text": [
      "LOWER BOUNDS:\n",
      " baths       0.500\n",
      "beds        1.500\n",
      "sqft     -143.500\n",
      "tax     -3181.275\n",
      "dtype: float64\n"
     ]
    }
   ],
   "source": [
    "print('LOWER BOUNDS:\\n', lower_bound)"
   ]
  },
  {
   "cell_type": "markdown",
   "metadata": {},
   "source": [
    "**Conclusion**:\n",
    "\n",
    "*it wouldn't make sense to get rid of any lower bound outliers. the `beds` lower bound is 1.5 which isn't unusual in a sinlge unit home*\n",
    "\n",
    "*`sqft` and `tax` can't be negative so it doesn't make sense here*"
   ]
  },
  {
   "cell_type": "markdown",
   "metadata": {},
   "source": [
    "- Use the IQR Range Rule and the upper and lower bounds to identify the **upper** outliers of each column, using the multiplier of 1.5. \n",
    "    - Do these upper outliers make sense?\n",
    "    - Which outliers should be kept?"
   ]
  },
  {
   "cell_type": "code",
   "execution_count": 39,
   "metadata": {},
   "outputs": [
    {
     "name": "stdout",
     "output_type": "stream",
     "text": [
      "UPPER BOUNDS:\n",
      " baths        4.500\n",
      "beds         5.500\n",
      "sqft      3604.500\n",
      "tax      12012.045\n",
      "dtype: float64\n"
     ]
    }
   ],
   "source": [
    "print('UPPER BOUNDS:\\n', upper_bound)"
   ]
  },
  {
   "cell_type": "markdown",
   "metadata": {},
   "source": [
    "**Conclusion**:\n",
    "\n",
    "*I don't think these 'outliers' are servere enough. I think single unit homes can still be constrained by these values. This may change when looking at a multiplier of 3*"
   ]
  },
  {
   "cell_type": "markdown",
   "metadata": {},
   "source": [
    "- Using the multiplier of 3, IQR Range Rule, and the lower and upper bounds, identify the outliers below the **lower** bound in each column. \n",
    "    - Do these lower outliers make sense?\n",
    "    - Which outliers should be kept?"
   ]
  },
  {
   "cell_type": "code",
   "execution_count": 40,
   "metadata": {},
   "outputs": [],
   "source": [
    "# change multipler to 3 and reevaluate upper/lower bounds\n",
    "multiplier = 3\n",
    "\n",
    "lower_bound = q1 - iqr*multiplier\n",
    "upper_bound = q3 + iqr*multiplier"
   ]
  },
  {
   "cell_type": "code",
   "execution_count": 41,
   "metadata": {},
   "outputs": [
    {
     "name": "stdout",
     "output_type": "stream",
     "text": [
      "LOWER BOUNDS:\n",
      " baths      -1.00\n",
      "beds        0.00\n",
      "sqft    -1549.00\n",
      "tax     -8878.77\n",
      "dtype: float64\n"
     ]
    }
   ],
   "source": [
    "print('LOWER BOUNDS:\\n', lower_bound)"
   ]
  },
  {
   "cell_type": "markdown",
   "metadata": {},
   "source": [
    "**Conclusion**:\n",
    "\n",
    "*same as the case above for multiplier = 1.5*"
   ]
  },
  {
   "cell_type": "markdown",
   "metadata": {},
   "source": [
    "- Using the multiplier of 3, IQR Range Rule, and the lower and upper bounds, identify the outliers above the **upper** bound in each column. \n",
    "    - Do these upper outliers make sense? \n",
    "    - Which outliers should be kept?"
   ]
  },
  {
   "cell_type": "code",
   "execution_count": 42,
   "metadata": {},
   "outputs": [
    {
     "name": "stdout",
     "output_type": "stream",
     "text": [
      "UPPER BOUNDS:\n",
      " baths        6.00\n",
      "beds         7.00\n",
      "sqft      5010.00\n",
      "tax      17709.54\n",
      "dtype: float64\n"
     ]
    }
   ],
   "source": [
    "print('UPPER BOUNDS:\\n', upper_bound)"
   ]
  },
  {
   "cell_type": "markdown",
   "metadata": {},
   "source": [
    "**Conclusion**:\n",
    "\n",
    "*These may be a good indicator of typical single unit homes so anything above these values will be removed for the sake of appealing to the majority of potential customers*\n",
    "\n",
    "*We will look at the number of outliers for each feature below*\n",
    "\n",
    "*Looking at these values, I'd consider removing the outliers from `beds`, `baths`, and `sqft` to condense my observations and make them more relevant*"
   ]
  },
  {
   "cell_type": "code",
   "execution_count": 44,
   "metadata": {},
   "outputs": [
    {
     "data": {
      "text/plain": [
       "223"
      ]
     },
     "execution_count": 44,
     "metadata": {},
     "output_type": "execute_result"
    }
   ],
   "source": [
    "len(df.baths[get_upper_outliers(df.baths, 3) != 0])"
   ]
  },
  {
   "cell_type": "code",
   "execution_count": 45,
   "metadata": {},
   "outputs": [
    {
     "data": {
      "text/plain": [
       "42"
      ]
     },
     "execution_count": 45,
     "metadata": {},
     "output_type": "execute_result"
    }
   ],
   "source": [
    "len(df.beds[get_upper_outliers(df.beds, 3) != 0])"
   ]
  },
  {
   "cell_type": "code",
   "execution_count": 46,
   "metadata": {},
   "outputs": [
    {
     "data": {
      "text/plain": [
       "643"
      ]
     },
     "execution_count": 46,
     "metadata": {},
     "output_type": "execute_result"
    }
   ],
   "source": [
    "len(df.sqft[get_upper_outliers(df.sqft, 3) != 0])"
   ]
  },
  {
   "cell_type": "code",
   "execution_count": 47,
   "metadata": {},
   "outputs": [
    {
     "data": {
      "text/plain": [
       "1669"
      ]
     },
     "execution_count": 47,
     "metadata": {},
     "output_type": "execute_result"
    }
   ],
   "source": [
    "len(df.tax[get_upper_outliers(df.tax, 3) != 0])"
   ]
  },
  {
   "cell_type": "markdown",
   "metadata": {},
   "source": [
    "- Identify if any columns are normally distributed. For normally distributed columns:"
   ]
  },
  {
   "cell_type": "code",
   "execution_count": 51,
   "metadata": {},
   "outputs": [
    {
     "data": {
      "image/png": "[encoded data removed]",
      "text/plain": [
       "<Figure size 432x288 with 4 Axes>"
      ]
     },
     "metadata": {
      "needs_background": "light"
     },
     "output_type": "display_data"
    }
   ],
   "source": [
    "df.hist(bins=20)\n",
    "plt.tight_layout()"
   ]
  },
  {
   "cell_type": "markdown",
   "metadata": {},
   "source": [
    "*`beds` and `baths` are normally distributed*\n",
    "\n",
    "*`sqft` and `tax` are slightly skewed right*"
   ]
  },
  {
   "cell_type": "markdown",
   "metadata": {},
   "source": [
    "- Use a 2 sigma decision rule to isolate the outliers.\n",
    "    - Do these make sense?\n",
    "    - Should certain outliers be kept or removed?"
   ]
  },
  {
   "cell_type": "code",
   "execution_count": 55,
   "metadata": {},
   "outputs": [
    {
     "data": {
      "text/html": [
       "<div>\n",
       "<style scoped>\n",
       "    .dataframe tbody tr th:only-of-type {\n",
       "        vertical-align: middle;\n",
       "    }\n",
       "\n",
       "    .dataframe tbody tr th {\n",
       "        vertical-align: top;\n",
       "    }\n",
       "\n",
       "    .dataframe thead th {\n",
       "        text-align: right;\n",
       "    }\n",
       "</style>\n",
       "<table border=\"1\" class=\"dataframe\">\n",
       "  <thead>\n",
       "    <tr style=\"text-align: right;\">\n",
       "      <th></th>\n",
       "      <th>beds</th>\n",
       "      <th>zscore</th>\n",
       "    </tr>\n",
       "  </thead>\n",
       "  <tbody>\n",
       "    <tr>\n",
       "      <th>375</th>\n",
       "      <td>6.0</td>\n",
       "      <td>2.928877</td>\n",
       "    </tr>\n",
       "    <tr>\n",
       "      <th>733</th>\n",
       "      <td>6.0</td>\n",
       "      <td>2.928877</td>\n",
       "    </tr>\n",
       "    <tr>\n",
       "      <th>866</th>\n",
       "      <td>6.0</td>\n",
       "      <td>2.928877</td>\n",
       "    </tr>\n",
       "    <tr>\n",
       "      <th>892</th>\n",
       "      <td>6.0</td>\n",
       "      <td>2.928877</td>\n",
       "    </tr>\n",
       "    <tr>\n",
       "      <th>1021</th>\n",
       "      <td>6.0</td>\n",
       "      <td>2.928877</td>\n",
       "    </tr>\n",
       "    <tr>\n",
       "      <th>...</th>\n",
       "      <td>...</td>\n",
       "      <td>...</td>\n",
       "    </tr>\n",
       "    <tr>\n",
       "      <th>76318</th>\n",
       "      <td>6.0</td>\n",
       "      <td>2.928877</td>\n",
       "    </tr>\n",
       "    <tr>\n",
       "      <th>76596</th>\n",
       "      <td>11.0</td>\n",
       "      <td>8.367299</td>\n",
       "    </tr>\n",
       "    <tr>\n",
       "      <th>76708</th>\n",
       "      <td>6.0</td>\n",
       "      <td>2.928877</td>\n",
       "    </tr>\n",
       "    <tr>\n",
       "      <th>76848</th>\n",
       "      <td>6.0</td>\n",
       "      <td>2.928877</td>\n",
       "    </tr>\n",
       "    <tr>\n",
       "      <th>76929</th>\n",
       "      <td>8.0</td>\n",
       "      <td>5.104246</td>\n",
       "    </tr>\n",
       "  </tbody>\n",
       "</table>\n",
       "<p>765 rows × 2 columns</p>\n",
       "</div>"
      ],
      "text/plain": [
       "       beds    zscore\n",
       "375     6.0  2.928877\n",
       "733     6.0  2.928877\n",
       "866     6.0  2.928877\n",
       "892     6.0  2.928877\n",
       "1021    6.0  2.928877\n",
       "...     ...       ...\n",
       "76318   6.0  2.928877\n",
       "76596  11.0  8.367299\n",
       "76708   6.0  2.928877\n",
       "76848   6.0  2.928877\n",
       "76929   8.0  5.104246\n",
       "\n",
       "[765 rows x 2 columns]"
      ]
     },
     "execution_count": 55,
     "metadata": {},
     "output_type": "execute_result"
    }
   ],
   "source": [
    "x1 = df.beds\n",
    "zscores1 = (x1 - x1.mean()) / x1.std()\n",
    "\n",
    "df1 = pd.DataFrame()\n",
    "df1[\"beds\"] = x1\n",
    "df1[\"zscore\"] = abs(zscores1)\n",
    "\n",
    "df1[zscores1 >= 2]"
   ]
  },
  {
   "cell_type": "code",
   "execution_count": 53,
   "metadata": {},
   "outputs": [
    {
     "data": {
      "text/html": [
       "<div>\n",
       "<style scoped>\n",
       "    .dataframe tbody tr th:only-of-type {\n",
       "        vertical-align: middle;\n",
       "    }\n",
       "\n",
       "    .dataframe tbody tr th {\n",
       "        vertical-align: top;\n",
       "    }\n",
       "\n",
       "    .dataframe thead th {\n",
       "        text-align: right;\n",
       "    }\n",
       "</style>\n",
       "<table border=\"1\" class=\"dataframe\">\n",
       "  <thead>\n",
       "    <tr style=\"text-align: right;\">\n",
       "      <th></th>\n",
       "      <th>baths</th>\n",
       "      <th>zscore</th>\n",
       "    </tr>\n",
       "  </thead>\n",
       "  <tbody>\n",
       "    <tr>\n",
       "      <th>348</th>\n",
       "      <td>5.0</td>\n",
       "      <td>2.806544</td>\n",
       "    </tr>\n",
       "    <tr>\n",
       "      <th>529</th>\n",
       "      <td>4.5</td>\n",
       "      <td>2.297319</td>\n",
       "    </tr>\n",
       "    <tr>\n",
       "      <th>593</th>\n",
       "      <td>4.5</td>\n",
       "      <td>2.297319</td>\n",
       "    </tr>\n",
       "    <tr>\n",
       "      <th>640</th>\n",
       "      <td>4.5</td>\n",
       "      <td>2.297319</td>\n",
       "    </tr>\n",
       "    <tr>\n",
       "      <th>841</th>\n",
       "      <td>4.5</td>\n",
       "      <td>2.297319</td>\n",
       "    </tr>\n",
       "    <tr>\n",
       "      <th>...</th>\n",
       "      <td>...</td>\n",
       "      <td>...</td>\n",
       "    </tr>\n",
       "    <tr>\n",
       "      <th>76476</th>\n",
       "      <td>5.0</td>\n",
       "      <td>2.806544</td>\n",
       "    </tr>\n",
       "    <tr>\n",
       "      <th>76596</th>\n",
       "      <td>6.0</td>\n",
       "      <td>3.824994</td>\n",
       "    </tr>\n",
       "    <tr>\n",
       "      <th>76683</th>\n",
       "      <td>5.0</td>\n",
       "      <td>2.806544</td>\n",
       "    </tr>\n",
       "    <tr>\n",
       "      <th>76929</th>\n",
       "      <td>6.0</td>\n",
       "      <td>3.824994</td>\n",
       "    </tr>\n",
       "    <tr>\n",
       "      <th>76964</th>\n",
       "      <td>5.0</td>\n",
       "      <td>2.806544</td>\n",
       "    </tr>\n",
       "  </tbody>\n",
       "</table>\n",
       "<p>1854 rows × 2 columns</p>\n",
       "</div>"
      ],
      "text/plain": [
       "       baths    zscore\n",
       "348      5.0  2.806544\n",
       "529      4.5  2.297319\n",
       "593      4.5  2.297319\n",
       "640      4.5  2.297319\n",
       "841      4.5  2.297319\n",
       "...      ...       ...\n",
       "76476    5.0  2.806544\n",
       "76596    6.0  3.824994\n",
       "76683    5.0  2.806544\n",
       "76929    6.0  3.824994\n",
       "76964    5.0  2.806544\n",
       "\n",
       "[1854 rows x 2 columns]"
      ]
     },
     "execution_count": 53,
     "metadata": {},
     "output_type": "execute_result"
    }
   ],
   "source": [
    "x2 = df.baths\n",
    "zscores2 = (x2 - x2.mean()) / x2.std()\n",
    "\n",
    "df2 = pd.DataFrame()\n",
    "df2[\"baths\"] = x2\n",
    "df2[\"zscore\"] = abs(zscores2)\n",
    "\n",
    "df2[zscores2 >= 2]"
   ]
  },
  {
   "cell_type": "markdown",
   "metadata": {},
   "source": [
    "- Now use a 3 sigma decision rule to isolate the outliers in the normally distributed columns "
   ]
  },
  {
   "cell_type": "code",
   "execution_count": 56,
   "metadata": {},
   "outputs": [
    {
     "data": {
      "text/html": [
       "<div>\n",
       "<style scoped>\n",
       "    .dataframe tbody tr th:only-of-type {\n",
       "        vertical-align: middle;\n",
       "    }\n",
       "\n",
       "    .dataframe tbody tr th {\n",
       "        vertical-align: top;\n",
       "    }\n",
       "\n",
       "    .dataframe thead th {\n",
       "        text-align: right;\n",
       "    }\n",
       "</style>\n",
       "<table border=\"1\" class=\"dataframe\">\n",
       "  <thead>\n",
       "    <tr style=\"text-align: right;\">\n",
       "      <th></th>\n",
       "      <th>beds</th>\n",
       "      <th>zscore</th>\n",
       "    </tr>\n",
       "  </thead>\n",
       "  <tbody>\n",
       "    <tr>\n",
       "      <th>1067</th>\n",
       "      <td>7.0</td>\n",
       "      <td>4.016561</td>\n",
       "    </tr>\n",
       "    <tr>\n",
       "      <th>1373</th>\n",
       "      <td>8.0</td>\n",
       "      <td>5.104246</td>\n",
       "    </tr>\n",
       "    <tr>\n",
       "      <th>1436</th>\n",
       "      <td>8.0</td>\n",
       "      <td>5.104246</td>\n",
       "    </tr>\n",
       "    <tr>\n",
       "      <th>2256</th>\n",
       "      <td>8.0</td>\n",
       "      <td>5.104246</td>\n",
       "    </tr>\n",
       "    <tr>\n",
       "      <th>3410</th>\n",
       "      <td>7.0</td>\n",
       "      <td>4.016561</td>\n",
       "    </tr>\n",
       "    <tr>\n",
       "      <th>...</th>\n",
       "      <td>...</td>\n",
       "      <td>...</td>\n",
       "    </tr>\n",
       "    <tr>\n",
       "      <th>76116</th>\n",
       "      <td>7.0</td>\n",
       "      <td>4.016561</td>\n",
       "    </tr>\n",
       "    <tr>\n",
       "      <th>76120</th>\n",
       "      <td>7.0</td>\n",
       "      <td>4.016561</td>\n",
       "    </tr>\n",
       "    <tr>\n",
       "      <th>76213</th>\n",
       "      <td>7.0</td>\n",
       "      <td>4.016561</td>\n",
       "    </tr>\n",
       "    <tr>\n",
       "      <th>76596</th>\n",
       "      <td>11.0</td>\n",
       "      <td>8.367299</td>\n",
       "    </tr>\n",
       "    <tr>\n",
       "      <th>76929</th>\n",
       "      <td>8.0</td>\n",
       "      <td>5.104246</td>\n",
       "    </tr>\n",
       "  </tbody>\n",
       "</table>\n",
       "<p>147 rows × 2 columns</p>\n",
       "</div>"
      ],
      "text/plain": [
       "       beds    zscore\n",
       "1067    7.0  4.016561\n",
       "1373    8.0  5.104246\n",
       "1436    8.0  5.104246\n",
       "2256    8.0  5.104246\n",
       "3410    7.0  4.016561\n",
       "...     ...       ...\n",
       "76116   7.0  4.016561\n",
       "76120   7.0  4.016561\n",
       "76213   7.0  4.016561\n",
       "76596  11.0  8.367299\n",
       "76929   8.0  5.104246\n",
       "\n",
       "[147 rows x 2 columns]"
      ]
     },
     "execution_count": 56,
     "metadata": {},
     "output_type": "execute_result"
    }
   ],
   "source": [
    "x1 = df.beds\n",
    "zscores1 = (x1 - x1.mean()) / x1.std()\n",
    "\n",
    "df1 = pd.DataFrame()\n",
    "df1[\"beds\"] = x1\n",
    "df1[\"zscore\"] = abs(zscores1)\n",
    "\n",
    "df1[zscores1 >= 3]"
   ]
  },
  {
   "cell_type": "code",
   "execution_count": 57,
   "metadata": {},
   "outputs": [
    {
     "data": {
      "text/html": [
       "<div>\n",
       "<style scoped>\n",
       "    .dataframe tbody tr th:only-of-type {\n",
       "        vertical-align: middle;\n",
       "    }\n",
       "\n",
       "    .dataframe tbody tr th {\n",
       "        vertical-align: top;\n",
       "    }\n",
       "\n",
       "    .dataframe thead th {\n",
       "        text-align: right;\n",
       "    }\n",
       "</style>\n",
       "<table border=\"1\" class=\"dataframe\">\n",
       "  <thead>\n",
       "    <tr style=\"text-align: right;\">\n",
       "      <th></th>\n",
       "      <th>baths</th>\n",
       "      <th>zscore</th>\n",
       "    </tr>\n",
       "  </thead>\n",
       "  <tbody>\n",
       "    <tr>\n",
       "      <th>1189</th>\n",
       "      <td>7.5</td>\n",
       "      <td>5.352668</td>\n",
       "    </tr>\n",
       "    <tr>\n",
       "      <th>1201</th>\n",
       "      <td>5.5</td>\n",
       "      <td>3.315769</td>\n",
       "    </tr>\n",
       "    <tr>\n",
       "      <th>1371</th>\n",
       "      <td>6.0</td>\n",
       "      <td>3.824994</td>\n",
       "    </tr>\n",
       "    <tr>\n",
       "      <th>1373</th>\n",
       "      <td>10.0</td>\n",
       "      <td>7.898792</td>\n",
       "    </tr>\n",
       "    <tr>\n",
       "      <th>1436</th>\n",
       "      <td>8.0</td>\n",
       "      <td>5.861893</td>\n",
       "    </tr>\n",
       "    <tr>\n",
       "      <th>...</th>\n",
       "      <td>...</td>\n",
       "      <td>...</td>\n",
       "    </tr>\n",
       "    <tr>\n",
       "      <th>76291</th>\n",
       "      <td>6.0</td>\n",
       "      <td>3.824994</td>\n",
       "    </tr>\n",
       "    <tr>\n",
       "      <th>76318</th>\n",
       "      <td>6.0</td>\n",
       "      <td>3.824994</td>\n",
       "    </tr>\n",
       "    <tr>\n",
       "      <th>76388</th>\n",
       "      <td>6.0</td>\n",
       "      <td>3.824994</td>\n",
       "    </tr>\n",
       "    <tr>\n",
       "      <th>76596</th>\n",
       "      <td>6.0</td>\n",
       "      <td>3.824994</td>\n",
       "    </tr>\n",
       "    <tr>\n",
       "      <th>76929</th>\n",
       "      <td>6.0</td>\n",
       "      <td>3.824994</td>\n",
       "    </tr>\n",
       "  </tbody>\n",
       "</table>\n",
       "<p>651 rows × 2 columns</p>\n",
       "</div>"
      ],
      "text/plain": [
       "       baths    zscore\n",
       "1189     7.5  5.352668\n",
       "1201     5.5  3.315769\n",
       "1371     6.0  3.824994\n",
       "1373    10.0  7.898792\n",
       "1436     8.0  5.861893\n",
       "...      ...       ...\n",
       "76291    6.0  3.824994\n",
       "76318    6.0  3.824994\n",
       "76388    6.0  3.824994\n",
       "76596    6.0  3.824994\n",
       "76929    6.0  3.824994\n",
       "\n",
       "[651 rows x 2 columns]"
      ]
     },
     "execution_count": 57,
     "metadata": {},
     "output_type": "execute_result"
    }
   ],
   "source": [
    "x2 = df.baths\n",
    "zscores2 = (x2 - x2.mean()) / x2.std()\n",
    "\n",
    "df2 = pd.DataFrame()\n",
    "df2[\"baths\"] = x2\n",
    "df2[\"zscore\"] = abs(zscores2)\n",
    "\n",
    "df2[zscores2 >= 3]"
   ]
  },
  {
   "cell_type": "code",
   "execution_count": null,
   "metadata": {},
   "outputs": [],
   "source": []
  }
 ],
 "metadata": {
  "kernelspec": {
   "display_name": "Python 3",
   "language": "python",
   "name": "python3"
  },
  "language_info": {
   "codemirror_mode": {
    "name": "ipython",
    "version": 3
   },
   "file_extension": ".py",
   "mimetype": "text/x-python",
   "name": "python",
   "nbconvert_exporter": "python",
   "pygments_lexer": "ipython3",
   "version": "3.7.6"
  }
 },
 "nbformat": 4,
 "nbformat_minor": 4
}
